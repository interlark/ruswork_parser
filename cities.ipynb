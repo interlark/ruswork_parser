{
  "nbformat": 4,
  "nbformat_minor": 0,
  "metadata": {
    "colab": {
      "name": "Untitled7.ipynb",
      "provenance": []
    },
    "kernelspec": {
      "name": "python3",
      "display_name": "Python 3"
    },
    "language_info": {
      "name": "python"
    }
  },
  "cells": [
    {
      "cell_type": "code",
      "execution_count": 1,
      "metadata": {
        "id": "O6XmUEd6N6Vm"
      },
      "outputs": [],
      "source": [
        "import bs4"
      ]
    },
    {
      "cell_type": "code",
      "source": [
        "import requests"
      ],
      "metadata": {
        "id": "TO8jrqtBN8LZ"
      },
      "execution_count": 2,
      "outputs": []
    },
    {
      "cell_type": "code",
      "source": [
        "from urllib.parse import urljoin"
      ],
      "metadata": {
        "id": "SEdunlLaOzEZ"
      },
      "execution_count": 11,
      "outputs": []
    },
    {
      "cell_type": "code",
      "source": [
        "from tqdm import tqdm"
      ],
      "metadata": {
        "id": "AEzdt0JnQ02l"
      },
      "execution_count": 30,
      "outputs": []
    },
    {
      "cell_type": "code",
      "source": [
        "from time import sleep"
      ],
      "metadata": {
        "id": "I2Fvh44CQ7-F"
      },
      "execution_count": 33,
      "outputs": []
    },
    {
      "cell_type": "code",
      "source": [
        "import json"
      ],
      "metadata": {
        "id": "OLngr7WZVFLI"
      },
      "execution_count": 58,
      "outputs": []
    },
    {
      "cell_type": "code",
      "source": [
        "BASE_URL = 'https://rus-work.com/regions.html'"
      ],
      "metadata": {
        "id": "8P-HDE7eO3WF"
      },
      "execution_count": 12,
      "outputs": []
    },
    {
      "cell_type": "code",
      "source": [
        "main_page = requests.get(BASE_URL)"
      ],
      "metadata": {
        "id": "G-tKQcE9OFO8"
      },
      "execution_count": 13,
      "outputs": []
    },
    {
      "cell_type": "code",
      "source": [
        "main_page.text"
      ],
      "metadata": {
        "colab": {
          "base_uri": "https://localhost:8080/",
          "height": 122
        },
        "id": "JkSCRz4gOJxG",
        "outputId": "039db6d8-0d29-43ef-edbd-8243b0d5cf4c"
      },
      "execution_count": 5,
      "outputs": [
        {
          "output_type": "execute_result",
          "data": {
            "application/vnd.google.colaboratory.intrinsic+json": {
              "type": "string"
            },
            "text/plain": [
              "'<html>\\r\\n<head>\\r\\n<title>Rus-Work.Com - Поиск работы в России</title>\\r\\n<meta http-equiv=\"Content-Type\" content=\"text/html; charset=utf-8\">\\r\\n<META content=\"работа, вакансии, трудоустройство, россия\" name=\"keywords\" />\\r\\n<META content=\"Поиск работы и сотрудников по регионам России.\" name=\"description\" />\\r\\n<meta name=\"viewport\" content=\"width=device-width,initial-scale=1,user-scalable=no\" />\\r\\n<meta name=\"theme-color\" content=\"#66bb6a\" />\\r\\n<link rel=\"stylesheet\" href=\"/css/def.css?709280\" type=\"text/css\" />\\r\\n<link rel=\"icon\" href=\"/favicon.ico\" type=\"image/x-icon\" />\\r\\n<link rel=\"shortcut icon\" href=\"/favicon.ico\" type=\"image/x-icon\" />\\r\\n<script src=\"https://ajax.googleapis.com/ajax/libs/jquery/1.12.4/jquery.min.js\"></script>\\r\\n<style>\\r\\n.f_arrow {right: 0;}\\r\\n</style>\\r\\n<script async src=\"https://pagead2.googlesyndication.com/pagead/js/adsbygoogle.js?client=ca-pub-9657044749695466\"\\r\\n     crossorigin=\"anonymous\"></script></head>\\r\\n<body>\\r\\n<div id=\"site\">\\r\\n<div class=\"top\">\\r\\n<div class=\"max\">\\r\\n\\t<a class=\"logo\" href=\"https://rus-work.com/\" title=\"Работа и вакансии в России\">Rus-Work.Com</a>\\r\\n\\t<div class=\"top_links\"><a class=\"tm_act\" href=\"/regions.html\" title=\"Список населённых пунктов\">Регионы</a><a href=\"/contacts.html\"  title=\"Обратная связь\">Контакты</a></div>\\r\\n\\t\\t<div id=\"menu-btn\">\\r\\n\\t\\t  <span class=\"m_icon\"></span>\\r\\n\\t\\t  <span class=\"m_text\"></span>\\r\\n\\t\\t</div>\\r\\n\\t<div style=\"clear:both;\"></div>\\r\\n</div>\\r\\n</div>\\r\\n\\r\\n<div id=\"tm\" style=\"max-height:0;\" class=\"top_menu\">\\r\\n<ul><li><a class=\"tm_act\" href=\"/regions.html\" title=\"Список населённых пунктов\">Регионы</a></li><li><a href=\"/contacts.html\"  title=\"Обратная связь\">Контакты</a></li></ul>\\r\\n</div>\\r\\n\\r\\n<script>\\r\\n\\r\\nvar shirina=$(document).width();\\r\\n\\r\\nvar $m_btn = $(\\'#menu-btn\\');\\r\\nvar $m_link = $(\\'div.top_menu ul li a\\');\\r\\nvar $s_cnt = $(\\'#search_cnt\\');\\r\\n\\r\\n$m_btn.on(\\'click\\', function(e){\\r\\n    e.preventDefault();\\r\\n    if( $m_btn.hasClass(\\'m_open\\') ){\\r\\n      $m_btn.removeClass(\\'m_open\\');\\r\\n      $m_btn.addClass(\\'m_close\\');\\r\\n      $m_link.removeClass(\\'l_open\\');\\r\\n      $m_link.addClass(\\'l_close\\');\\r\\n\\t  document.getElementById(\"tm\").style.maxHeight=\\'0\\';\\r\\n    } else {\\r\\n      $m_btn.removeClass(\\'m_close\\');\\r\\n      $m_btn.addClass(\\'m_open\\');\\r\\n      $m_link.removeClass(\\'l_close\\');\\r\\n      $m_link.addClass(\\'l_open\\');\\r\\n\\t  document.getElementById(\"tm\").style.maxHeight=\\'300px\\';\\r\\n    }\\r\\n});\\r\\n</script>\\r\\n<style>\\r\\n.ruswork {padding:0 15px;}\\r\\n.ruswork p {line-height:24px;padding:15px 0;}\\r\\nh1.rus_tit {\\r\\n\\tfont-weight: 500;\\r\\n    font-size: 18px;\\r\\n    color: #000000;\\r\\n    line-height: 26px;\\t\\r\\n\\tmargin-top:20px;\\r\\n}\\r\\n\\r\\n.rus_list{padding-bottom:50px;}\\t\\r\\n.rus_list li {display:inline-block;width:100%;}\\r\\n.rus_list a {\\r\\n\\ttext-decoration: none;\\r\\n\\tborder:1px solid rgb(34 36 38 / 27%);\\r\\n    color: #212223;\\r\\n    display: block;\\r\\n    padding: 12px;\\r\\n\\tpadding-right:7px;\\r\\n    margin-top: 13px;\\r\\n    border-radius: 4px;\\r\\n    background: #fff;\\r\\n\\tfont-size:16px;\\r\\n\\tbackground-image: url(\"data:image/svg+xml,%3C%3Fxml version=\\'1.0\\' %3F%3E%3C!DOCTYPE svg PUBLIC \\'-//W3C//DTD SVG 1.1//EN\\' \\'http://www.w3.org/Graphics/SVG/1.1/DTD/svg11.dtd\\'%3E%3Csvg height=\\'128px\\' id=\\'Layer_1\\' style=\\'enable-background:new 0 0 128 128%3B\\' version=\\'1.1\\' viewBox=\\'0 0 128 128\\' width=\\'128px\\' xml:space=\\'preserve\\' xmlns=\\'http://www.w3.org/2000/svg\\' xmlns:xlink=\\'http://www.w3.org/1999/xlink\\'%3E%3Cg%3E%3Cline style=\\'fill:none%3Bstroke:%232F3435%3Bstroke-width:12%3Bstroke-linecap:square%3Bstroke-miterlimit:10%3B\\' x1=\\'40.5\\' x2=\\'87.5\\' y1=\\'17\\' y2=\\'64\\'/%3E%3Cline style=\\'fill:none%3Bstroke:%232F3435%3Bstroke-width:12%3Bstroke-linecap:square%3Bstroke-miterlimit:10%3B\\' x1=\\'87.5\\' x2=\\'40.5\\' y1=\\'64\\' y2=\\'111\\'/%3E%3C/g%3E%3C/svg%3E\");\\r\\n    background-repeat: no-repeat;\\r\\n    background-size: 16px;\\r\\n    background-position: right center;\\r\\n\\tbackground-origin: content-box;\\r\\n}\\r\\n.rus_list a:hover {color:green;}\\r\\n\\r\\n@media only screen and (min-width : 1270px) {\\r\\n.ruswork {padding:0;}\\r\\nh1.rus_tit {\\r\\n\\tfont-weight: 500;\\r\\n    font-size: 18px;\\r\\n    color: #000000;\\r\\n    line-height: 26px;\\r\\n}\\r\\n}\\r\\n</style>\\r\\n\\r\\n<div class=\"s_box\">\\r\\n<div class=\"max\" style=\"padding:0;\">\\r\\n<div class=\"ruswork\">\\r\\n<h1 class=\"rus_tit\">Регионы</h1>\\r\\n<p>\\r\\nВыберите регион для поиска работы или сотрудников\\r\\n</p>\\r\\n\\r\\n<ul class=\"rus_list\">\\r\\n<li><a href=\"/altayskiy_krai.html\">Алтайский край</a></li><li><a href=\"/amurskaya_oblast.html\">Амурская область</a></li><li><a href=\"/arhangelskaya_oblast.html\">Архангельская область</a></li><li><a href=\"/astrahanskaya_oblast.html\">Астраханская область</a></li><li><a href=\"/belgorodskaya_oblast.html\">Белгородская область</a></li><li><a href=\"/bryanskaya_oblast.html\">Брянская область</a></li><li><a href=\"/vladimirskaya_oblast.html\">Владимирская область</a></li><li><a href=\"/volgogradskaya_oblast.html\">Волгоградская область</a></li><li><a href=\"/vologodskaya_oblast.html\">Вологодская область</a></li><li><a href=\"/voronezhskaya_oblast.html\">Воронежская область</a></li><li><a href=\"/evreyskaya_oblast.html\">Еврейская АО</a></li><li><a href=\"/zabaykalskiy_krai.html\">Забайкальский край</a></li><li><a href=\"/ivanovskaya_oblast.html\">Ивановская область</a></li><li><a href=\"/irkutskaya_oblast.html\">Иркутская область</a></li><li><a href=\"/kabardino_balkarskaya_respublika.html\">Кабардино-Балкарская Республика</a></li><li><a href=\"/kaliningradskaya_oblast.html\">Калининградская область</a></li><li><a href=\"/kaluzhskaya_oblast.html\">Калужская область</a></li><li><a href=\"/kamchatskiy_krai.html\">Камчатский край</a></li><li><a href=\"/karachaevo_cherkesskaya_respublika.html\">Карачаево-Черкесская Республика</a></li><li><a href=\"/kemerovskaya_oblast.html\">Кемеровская область</a></li><li><a href=\"/kirovskaya_oblast.html\">Кировская область</a></li><li><a href=\"/kostromskaya_oblast.html\">Костромская область</a></li><li><a href=\"/krasnodarskiy_krai.html\">Краснодарский край</a></li><li><a href=\"/krasnoyarskiy_krai.html\">Красноярский край</a></li><li><a href=\"/kurganskaya_oblast.html\">Курганская область</a></li><li><a href=\"/kurskaya_oblast.html\">Курская область</a></li><li><a href=\"/leningradskaya_oblast.html\">Ленинградская область</a></li><li><a href=\"/litskaya_oblast.html\">Липецкая область</a></li><li><a href=\"/magadanskaya_oblast.html\">Магаданская область</a></li><li><a href=\"/moskovskaya_oblast.html\">Московская область</a></li><li><a href=\"/murmanskaya_oblast.html\">Мурманская область</a></li><li><a href=\"/nenetskiy_okrug.html\">Ненецкий АО</a></li><li><a href=\"/nizhegorodskaya_oblast.html\">Нижегородская область</a></li><li><a href=\"/novgorodskaya_oblast.html\">Новгородская область</a></li><li><a href=\"/novosibirskaya_oblast.html\">Новосибирская область</a></li><li><a href=\"/omskaya_oblast.html\">Омская область</a></li><li><a href=\"/orenburgskaya_oblast.html\">Оренбургская область</a></li><li><a href=\"/orlovskaya_oblast.html\">Орловская область</a></li><li><a href=\"/penzenskaya_oblast.html\">Пензенская область</a></li><li><a href=\"/permskiy_krai.html\">Пермский край</a></li><li><a href=\"/primorskiy_krai.html\">Приморский край</a></li><li><a href=\"/pskovskaya_oblast.html\">Псковская область</a></li><li><a href=\"/respublika_adygeya.html\">Республика Адыгея</a></li><li><a href=\"/respublika_altay.html\">Республика Алтай</a></li><li><a href=\"/respublika_bashkortostan.html\">Республика Башкортостан</a></li><li><a href=\"/respublika_buryatiya.html\">Республика Бурятия</a></li><li><a href=\"/respublika_dagestan.html\">Республика Дагестан</a></li><li><a href=\"/respublika_ingushetiya.html\">Республика Ингушетия</a></li><li><a href=\"/respublika_kalmykiya.html\">Республика Калмыкия</a></li><li><a href=\"/respublika_kareliya.html\">Республика Карелия</a></li><li><a href=\"/respublika_komi.html\">Республика Коми</a></li><li><a href=\"/respublika_krym.html\">Республика Крым</a></li><li><a href=\"/respublika_mariy_el.html\">Республика Марий Эл</a></li><li><a href=\"/respublika_mordoviya.html\">Республика Мордовия</a></li><li><a href=\"/respublika_saha_yakutiya.html\">Республика Саха (Якутия)</a></li><li><a href=\"/respublika_severnaya_osetiya_alaniya.html\">Республика Северная Осетия - Алания</a></li><li><a href=\"/respublika_tatarstan.html\">Республика Татарстан</a></li><li><a href=\"/respublika_tyva.html\">Республика Тыва</a></li><li><a href=\"/respublika_hakasiya.html\">Республика Хакасия</a></li><li><a href=\"/rostovskaya_oblast.html\">Ростовская область</a></li><li><a href=\"/ryazanskaya_oblast.html\">Рязанская область</a></li><li><a href=\"/samarskaya_oblast.html\">Самарская область</a></li><li><a href=\"/saratovskaya_oblast.html\">Саратовская область</a></li><li><a href=\"/sahalinskaya_oblast.html\">Сахалинская область</a></li><li><a href=\"/sverdlovskaya_oblast.html\">Свердловская область</a></li><li><a href=\"/smolenskaya_oblast.html\">Смоленская область</a></li><li><a href=\"/stavrapolskiy_krai.html\">Ставропольский край</a></li><li><a href=\"/tambovskaya_oblast.html\">Тамбовская область</a></li><li><a href=\"/tverskaya_oblast.html\">Тверская область</a></li><li><a href=\"/tomskaya_oblast.html\">Томская область</a></li><li><a href=\"/tulskaya_oblast.html\">Тульская область</a></li><li><a href=\"/tumenskaya_oblast.html\">Тюменская область</a></li><li><a href=\"/udmurtskaya_respublika.html\">Удмуртская Республика</a></li><li><a href=\"/ulyanovskaya_oblast.html\">Ульяновская область</a></li><li><a href=\"/habarovskiy_krai.html\">Хабаровский край</a></li><li><a href=\"/hanty_mansiyskiy_okrug_ugra.html\">Ханты-Мансийский автономный округ - Югра</a></li><li><a href=\"/chelyabinskaya_oblast.html\">Челябинская область</a></li><li><a href=\"/chechenskaya_respublika.html\">Чеченская Республика</a></li><li><a href=\"/chuvashskaya_respublika_chuvashiya.html\">Чувашская Республика - Чувашия</a></li><li><a href=\"/chukotskiy_okrug.html\">Чукотский АО</a></li><li><a href=\"/yamalo_nenetskiy_okrug.html\">Ямало-Ненецкий автономный округ</a></li><li><a href=\"/yaroslavskaya_oblast.html\">Ярославская область</a></li></ul>\\r\\n</div>\\r\\n<div style=\"clear:both;\"></div>\\r\\n</div>\\r\\n</div>\\r\\n\\r\\n\\r\\n\\r\\n<div id=\"btm\" class=\"bottom\">\\r\\n<div class=\"max\" style=\"padding:15px;\">\\r\\n<ul class=\"bot_list\"><li><a href=\"/usloviya.html\">Условия пользования</a></li><li><a href=\"/contacts.html\">Обратная связь</a></li><li><a href=\"/regions.html\">Список городов</a></li></ul>\\r\\n<div class=\"copy\">2022 &copy; Rus-Work.Com - помогаем найти работу и сотрудников</div>\\r\\n<div style=\"clear:both;\"></div>\\r\\n</div>\\r\\n</div>\\r\\n\\r\\n<!--LiveInternet counter--><img id=\"licnt0E7A\" width=\"1\" height=\"1\" style=\"border:0\" \\r\\ntitle=\"LiveInternet\"\\r\\nsrc=\"data:image/gif;base64,R0lGODlhAQABAIAAAAAAAP///yH5BAEAAAEALAAAAAABAAEAAAIBTAA7\"\\r\\nalt=\"\"/><script>(function(d,s){d.getElementById(\"licnt0E7A\").src=\\r\\n\"https://counter.yadro.ru/hit?t44.6;r\"+escape(d.referrer)+\\r\\n((typeof(s)==\"undefined\")?\"\":\";s\"+s.width+\"*\"+s.height+\"*\"+\\r\\n(s.colorDepth?s.colorDepth:s.pixelDepth))+\";u\"+escape(d.URL)+\\r\\n\";h\"+escape(d.title.substring(0,150))+\";\"+Math.random()})\\r\\n(document,screen)</script><!--/LiveInternet--></div>\\r\\n\\r\\n</body>\\r\\n</html>'"
            ]
          },
          "metadata": {},
          "execution_count": 5
        }
      ]
    },
    {
      "cell_type": "code",
      "source": [
        "soup = bs4.BeautifulSoup(main_page.text)"
      ],
      "metadata": {
        "id": "23bPQOEwOMmo"
      },
      "execution_count": 14,
      "outputs": []
    },
    {
      "cell_type": "code",
      "source": [
        "regions = {x.text: urljoin(BASE_URL, x.attrs['href']) for x in soup.select('.rus_list > li a')}"
      ],
      "metadata": {
        "id": "urtBm5xbOi4h"
      },
      "execution_count": 18,
      "outputs": []
    },
    {
      "cell_type": "code",
      "source": [
        "regions"
      ],
      "metadata": {
        "colab": {
          "base_uri": "https://localhost:8080/"
        },
        "id": "IFY74mAEOl4l",
        "outputId": "9670d252-746c-4007-f5e7-8ea9bb26c0d0"
      },
      "execution_count": 19,
      "outputs": [
        {
          "output_type": "execute_result",
          "data": {
            "text/plain": [
              "{'Алтайский край': 'https://rus-work.com/altayskiy_krai.html',\n",
              " 'Амурская область': 'https://rus-work.com/amurskaya_oblast.html',\n",
              " 'Архангельская область': 'https://rus-work.com/arhangelskaya_oblast.html',\n",
              " 'Астраханская область': 'https://rus-work.com/astrahanskaya_oblast.html',\n",
              " 'Белгородская область': 'https://rus-work.com/belgorodskaya_oblast.html',\n",
              " 'Брянская область': 'https://rus-work.com/bryanskaya_oblast.html',\n",
              " 'Владимирская область': 'https://rus-work.com/vladimirskaya_oblast.html',\n",
              " 'Волгоградская область': 'https://rus-work.com/volgogradskaya_oblast.html',\n",
              " 'Вологодская область': 'https://rus-work.com/vologodskaya_oblast.html',\n",
              " 'Воронежская область': 'https://rus-work.com/voronezhskaya_oblast.html',\n",
              " 'Еврейская АО': 'https://rus-work.com/evreyskaya_oblast.html',\n",
              " 'Забайкальский край': 'https://rus-work.com/zabaykalskiy_krai.html',\n",
              " 'Ивановская область': 'https://rus-work.com/ivanovskaya_oblast.html',\n",
              " 'Иркутская область': 'https://rus-work.com/irkutskaya_oblast.html',\n",
              " 'Кабардино-Балкарская Республика': 'https://rus-work.com/kabardino_balkarskaya_respublika.html',\n",
              " 'Калининградская область': 'https://rus-work.com/kaliningradskaya_oblast.html',\n",
              " 'Калужская область': 'https://rus-work.com/kaluzhskaya_oblast.html',\n",
              " 'Камчатский край': 'https://rus-work.com/kamchatskiy_krai.html',\n",
              " 'Карачаево-Черкесская Республика': 'https://rus-work.com/karachaevo_cherkesskaya_respublika.html',\n",
              " 'Кемеровская область': 'https://rus-work.com/kemerovskaya_oblast.html',\n",
              " 'Кировская область': 'https://rus-work.com/kirovskaya_oblast.html',\n",
              " 'Костромская область': 'https://rus-work.com/kostromskaya_oblast.html',\n",
              " 'Краснодарский край': 'https://rus-work.com/krasnodarskiy_krai.html',\n",
              " 'Красноярский край': 'https://rus-work.com/krasnoyarskiy_krai.html',\n",
              " 'Курганская область': 'https://rus-work.com/kurganskaya_oblast.html',\n",
              " 'Курская область': 'https://rus-work.com/kurskaya_oblast.html',\n",
              " 'Ленинградская область': 'https://rus-work.com/leningradskaya_oblast.html',\n",
              " 'Липецкая область': 'https://rus-work.com/litskaya_oblast.html',\n",
              " 'Магаданская область': 'https://rus-work.com/magadanskaya_oblast.html',\n",
              " 'Московская область': 'https://rus-work.com/moskovskaya_oblast.html',\n",
              " 'Мурманская область': 'https://rus-work.com/murmanskaya_oblast.html',\n",
              " 'Ненецкий АО': 'https://rus-work.com/nenetskiy_okrug.html',\n",
              " 'Нижегородская область': 'https://rus-work.com/nizhegorodskaya_oblast.html',\n",
              " 'Новгородская область': 'https://rus-work.com/novgorodskaya_oblast.html',\n",
              " 'Новосибирская область': 'https://rus-work.com/novosibirskaya_oblast.html',\n",
              " 'Омская область': 'https://rus-work.com/omskaya_oblast.html',\n",
              " 'Оренбургская область': 'https://rus-work.com/orenburgskaya_oblast.html',\n",
              " 'Орловская область': 'https://rus-work.com/orlovskaya_oblast.html',\n",
              " 'Пензенская область': 'https://rus-work.com/penzenskaya_oblast.html',\n",
              " 'Пермский край': 'https://rus-work.com/permskiy_krai.html',\n",
              " 'Приморский край': 'https://rus-work.com/primorskiy_krai.html',\n",
              " 'Псковская область': 'https://rus-work.com/pskovskaya_oblast.html',\n",
              " 'Республика Адыгея': 'https://rus-work.com/respublika_adygeya.html',\n",
              " 'Республика Алтай': 'https://rus-work.com/respublika_altay.html',\n",
              " 'Республика Башкортостан': 'https://rus-work.com/respublika_bashkortostan.html',\n",
              " 'Республика Бурятия': 'https://rus-work.com/respublika_buryatiya.html',\n",
              " 'Республика Дагестан': 'https://rus-work.com/respublika_dagestan.html',\n",
              " 'Республика Ингушетия': 'https://rus-work.com/respublika_ingushetiya.html',\n",
              " 'Республика Калмыкия': 'https://rus-work.com/respublika_kalmykiya.html',\n",
              " 'Республика Карелия': 'https://rus-work.com/respublika_kareliya.html',\n",
              " 'Республика Коми': 'https://rus-work.com/respublika_komi.html',\n",
              " 'Республика Крым': 'https://rus-work.com/respublika_krym.html',\n",
              " 'Республика Марий Эл': 'https://rus-work.com/respublika_mariy_el.html',\n",
              " 'Республика Мордовия': 'https://rus-work.com/respublika_mordoviya.html',\n",
              " 'Республика Саха (Якутия)': 'https://rus-work.com/respublika_saha_yakutiya.html',\n",
              " 'Республика Северная Осетия - Алания': 'https://rus-work.com/respublika_severnaya_osetiya_alaniya.html',\n",
              " 'Республика Татарстан': 'https://rus-work.com/respublika_tatarstan.html',\n",
              " 'Республика Тыва': 'https://rus-work.com/respublika_tyva.html',\n",
              " 'Республика Хакасия': 'https://rus-work.com/respublika_hakasiya.html',\n",
              " 'Ростовская область': 'https://rus-work.com/rostovskaya_oblast.html',\n",
              " 'Рязанская область': 'https://rus-work.com/ryazanskaya_oblast.html',\n",
              " 'Самарская область': 'https://rus-work.com/samarskaya_oblast.html',\n",
              " 'Саратовская область': 'https://rus-work.com/saratovskaya_oblast.html',\n",
              " 'Сахалинская область': 'https://rus-work.com/sahalinskaya_oblast.html',\n",
              " 'Свердловская область': 'https://rus-work.com/sverdlovskaya_oblast.html',\n",
              " 'Смоленская область': 'https://rus-work.com/smolenskaya_oblast.html',\n",
              " 'Ставропольский край': 'https://rus-work.com/stavrapolskiy_krai.html',\n",
              " 'Тамбовская область': 'https://rus-work.com/tambovskaya_oblast.html',\n",
              " 'Тверская область': 'https://rus-work.com/tverskaya_oblast.html',\n",
              " 'Томская область': 'https://rus-work.com/tomskaya_oblast.html',\n",
              " 'Тульская область': 'https://rus-work.com/tulskaya_oblast.html',\n",
              " 'Тюменская область': 'https://rus-work.com/tumenskaya_oblast.html',\n",
              " 'Удмуртская Республика': 'https://rus-work.com/udmurtskaya_respublika.html',\n",
              " 'Ульяновская область': 'https://rus-work.com/ulyanovskaya_oblast.html',\n",
              " 'Хабаровский край': 'https://rus-work.com/habarovskiy_krai.html',\n",
              " 'Ханты-Мансийский автономный округ - Югра': 'https://rus-work.com/hanty_mansiyskiy_okrug_ugra.html',\n",
              " 'Челябинская область': 'https://rus-work.com/chelyabinskaya_oblast.html',\n",
              " 'Чеченская Республика': 'https://rus-work.com/chechenskaya_respublika.html',\n",
              " 'Чувашская Республика - Чувашия': 'https://rus-work.com/chuvashskaya_respublika_chuvashiya.html',\n",
              " 'Чукотский АО': 'https://rus-work.com/chukotskiy_okrug.html',\n",
              " 'Ямало-Ненецкий автономный округ': 'https://rus-work.com/yamalo_nenetskiy_okrug.html',\n",
              " 'Ярославская область': 'https://rus-work.com/yaroslavskaya_oblast.html'}"
            ]
          },
          "metadata": {},
          "execution_count": 19
        }
      ]
    },
    {
      "cell_type": "code",
      "source": [
        "all_cities = []"
      ],
      "metadata": {
        "id": "fZlgF4KXPZlB"
      },
      "execution_count": 65,
      "outputs": []
    },
    {
      "cell_type": "code",
      "source": [
        "for k, v in tqdm(regions.items()):\n",
        "  soup_cities = bs4.BeautifulSoup(requests.get(v).text)\n",
        "  cities = [(x.text, {'url': urljoin(v, x.attrs['href']), 'region': k}) for x in soup_cities.select('.rus_list > li a')]\n",
        "  all_cities.extend(cities)\n",
        "  sleep(1)"
      ],
      "metadata": {
        "colab": {
          "base_uri": "https://localhost:8080/"
        },
        "id": "LHIIB-TFP1ar",
        "outputId": "4384091b-e27f-447f-e71f-7cfbfcd7c094"
      },
      "execution_count": 66,
      "outputs": [
        {
          "output_type": "stream",
          "name": "stderr",
          "text": [
            "100%|██████████| 82/82 [02:59<00:00,  2.19s/it]\n"
          ]
        }
      ]
    },
    {
      "cell_type": "code",
      "source": [
        "all_cities_dict = dict(all_cities)"
      ],
      "metadata": {
        "id": "KOvDhUaeP6qd"
      },
      "execution_count": 67,
      "outputs": []
    },
    {
      "cell_type": "code",
      "source": [
        "len(all_cities), '==', len(all_cities_dict)"
      ],
      "metadata": {
        "colab": {
          "base_uri": "https://localhost:8080/"
        },
        "id": "sRun3QVRQPF7",
        "outputId": "124c1917-a82a-48da-9887-3c0a2d9e21a0"
      },
      "execution_count": 56,
      "outputs": [
        {
          "output_type": "execute_result",
          "data": {
            "text/plain": [
              "(3775, '==', 3775)"
            ]
          },
          "metadata": {},
          "execution_count": 56
        }
      ]
    },
    {
      "cell_type": "code",
      "source": [
        "all_cities_dict"
      ],
      "metadata": {
        "id": "GjywF2AcTXj2"
      },
      "execution_count": null,
      "outputs": []
    },
    {
      "cell_type": "code",
      "source": [
        "json.dumps(all_cities_dict, ensure_ascii=False)"
      ],
      "metadata": {
        "id": "i6cNvAg8TdQs"
      },
      "execution_count": null,
      "outputs": []
    },
    {
      "cell_type": "code",
      "source": [
        "with open('cities.json', 'w') as f:\n",
        "  json.dump(all_cities_dict, f, ensure_ascii=False)"
      ],
      "metadata": {
        "id": "5BDKjiokVL6Y"
      },
      "execution_count": 68,
      "outputs": []
    },
    {
      "cell_type": "code",
      "source": [
        "all_cities"
      ],
      "metadata": {
        "colab": {
          "base_uri": "https://localhost:8080/"
        },
        "id": "9C5eA_rgVedR",
        "outputId": "fdc9a93b-fa83-4130-c2b6-db2605e7b197"
      },
      "execution_count": 64,
      "outputs": [
        {
          "output_type": "execute_result",
          "data": {
            "text/plain": [
              "[('Алейск',\n",
              "  {'region': 'Алтайский край', 'url': 'https://rus-work.com/aleysk/'}),\n",
              " ('Алтайское',\n",
              "  {'region': 'Алтайский край', 'url': 'https://rus-work.com/altayskoe/'}),\n",
              " ('Баево', {'region': 'Алтайский край', 'url': 'https://rus-work.com/baevo/'}),\n",
              " ('Барнаул',\n",
              "  {'region': 'Алтайский край', 'url': 'https://rus-work.com/barnaul/'}),\n",
              " ('Белокуриха',\n",
              "  {'region': 'Алтайский край', 'url': 'https://rus-work.com/belokuriha/'}),\n",
              " ('Белоярск',\n",
              "  {'region': 'Алтайский край', 'url': 'https://rus-work.com/beloyarsk/'}),\n",
              " ('Березовка (Алтайский край)',\n",
              "  {'region': 'Алтайский край', 'url': 'https://rus-work.com/berezovka22/'}),\n",
              " ('Бийск', {'region': 'Алтайский край', 'url': 'https://rus-work.com/biysk/'}),\n",
              " ('Благовещенка',\n",
              "  {'region': 'Алтайский край',\n",
              "   'url': 'https://rus-work.com/blagoveshchenka/'}),\n",
              " ('Боровиха',\n",
              "  {'region': 'Алтайский край', 'url': 'https://rus-work.com/boroviha/'}),\n",
              " ('Бурла', {'region': 'Алтайский край', 'url': 'https://rus-work.com/burla/'}),\n",
              " ('Быстрый Исток',\n",
              "  {'region': 'Алтайский край', 'url': 'https://rus-work.com/bystriy-istok/'}),\n",
              " ('Верх-Катунское',\n",
              "  {'region': 'Алтайский край', 'url': 'https://rus-work.com/verh-katunskoe/'}),\n",
              " ('Власиха (Алтайский край)',\n",
              "  {'region': 'Алтайский край', 'url': 'https://rus-work.com/vlasiha22/'}),\n",
              " ('Волчиха',\n",
              "  {'region': 'Алтайский край', 'url': 'https://rus-work.com/volchiha/'}),\n",
              " ('Горняк',\n",
              "  {'region': 'Алтайский край', 'url': 'https://rus-work.com/gornyak/'}),\n",
              " ('Ельцовка',\n",
              "  {'region': 'Алтайский край', 'url': 'https://rus-work.com/eltsovka/'}),\n",
              " ('Завьялово (Алтайский край)',\n",
              "  {'region': 'Алтайский край', 'url': 'https://rus-work.com/zavyalovo22/'}),\n",
              " ('Залесово',\n",
              "  {'region': 'Алтайский край', 'url': 'https://rus-work.com/zalesovo/'}),\n",
              " ('Заринск',\n",
              "  {'region': 'Алтайский край', 'url': 'https://rus-work.com/zarinsk/'}),\n",
              " ('Зелёная Дубрава',\n",
              "  {'region': 'Алтайский край',\n",
              "   'url': 'https://rus-work.com/zelenaya-dubrava/'}),\n",
              " ('Змеиногорск',\n",
              "  {'region': 'Алтайский край', 'url': 'https://rus-work.com/zmeinogorsk/'}),\n",
              " ('Зональное',\n",
              "  {'region': 'Алтайский край', 'url': 'https://rus-work.com/zonalnoe/'}),\n",
              " ('Зудилово',\n",
              "  {'region': 'Алтайский край', 'url': 'https://rus-work.com/zudilovo/'}),\n",
              " ('Калманка',\n",
              "  {'region': 'Алтайский край', 'url': 'https://rus-work.com/kalmanka/'}),\n",
              " ('Камень-на-Оби',\n",
              "  {'region': 'Алтайский край', 'url': 'https://rus-work.com/kamen-na-obi/'}),\n",
              " ('Ключи (Алтайский край)',\n",
              "  {'region': 'Алтайский край', 'url': 'https://rus-work.com/klyuchi22/'}),\n",
              " ('Косиха',\n",
              "  {'region': 'Алтайский край', 'url': 'https://rus-work.com/kosiha/'}),\n",
              " ('Красногорское (Алтайский край)',\n",
              "  {'region': 'Алтайский край',\n",
              "   'url': 'https://rus-work.com/krasnogorskoe22/'}),\n",
              " ('Краснощёково',\n",
              "  {'region': 'Алтайский край',\n",
              "   'url': 'https://rus-work.com/krasnoshchekovo/'}),\n",
              " ('Крутиха',\n",
              "  {'region': 'Алтайский край', 'url': 'https://rus-work.com/krutiha/'}),\n",
              " ('Кулунда',\n",
              "  {'region': 'Алтайский край', 'url': 'https://rus-work.com/kulunda/'}),\n",
              " ('Курья', {'region': 'Алтайский край', 'url': 'https://rus-work.com/kurya/'}),\n",
              " ('Кытманово',\n",
              "  {'region': 'Алтайский край', 'url': 'https://rus-work.com/kytmanovo/'}),\n",
              " ('Лебяжье (Алтайский край)',\n",
              "  {'region': 'Алтайский край', 'url': 'https://rus-work.com/lebyazhye22/'}),\n",
              " ('Леньки',\n",
              "  {'region': 'Алтайский край', 'url': 'https://rus-work.com/lenki/'}),\n",
              " ('Малиновое Озеро',\n",
              "  {'region': 'Алтайский край',\n",
              "   'url': 'https://rus-work.com/malinovoe-ozero/'}),\n",
              " ('Мамонтово',\n",
              "  {'region': 'Алтайский край', 'url': 'https://rus-work.com/mamontovo/'}),\n",
              " ('Михайловское (Алтайский край)',\n",
              "  {'region': 'Алтайский край', 'url': 'https://rus-work.com/mihaylovskoe22/'}),\n",
              " ('Налобиха',\n",
              "  {'region': 'Алтайский край', 'url': 'https://rus-work.com/nalobiha/'}),\n",
              " ('Новичиха',\n",
              "  {'region': 'Алтайский край', 'url': 'https://rus-work.com/novichiha/'}),\n",
              " ('Новоалтайск',\n",
              "  {'region': 'Алтайский край', 'url': 'https://rus-work.com/novoaltajsk/'}),\n",
              " ('Новоегорьевское',\n",
              "  {'region': 'Алтайский край',\n",
              "   'url': 'https://rus-work.com/novoegoryevskoe/'}),\n",
              " ('Новые Зори',\n",
              "  {'region': 'Алтайский край', 'url': 'https://rus-work.com/novye-zori/'}),\n",
              " ('Озерки (Алтайский край)',\n",
              "  {'region': 'Алтайский край', 'url': 'https://rus-work.com/ozerki/'}),\n",
              " ('Павловск (Алтайский край)',\n",
              "  {'region': 'Алтайский край', 'url': 'https://rus-work.com/pavlovsk22/'}),\n",
              " ('Панкрушиха',\n",
              "  {'region': 'Алтайский край', 'url': 'https://rus-work.com/pankrushiha/'}),\n",
              " ('Первомайское (Алтайский край)',\n",
              "  {'region': 'Алтайский край', 'url': 'https://rus-work.com/pervomayskoe22/'}),\n",
              " ('Петропавловское',\n",
              "  {'region': 'Алтайский край',\n",
              "   'url': 'https://rus-work.com/petropavlovskoe/'}),\n",
              " ('Поспелиха',\n",
              "  {'region': 'Алтайский край', 'url': 'https://rus-work.com/pospeliha/'}),\n",
              " ('Ребриха',\n",
              "  {'region': 'Алтайский край', 'url': 'https://rus-work.com/rebriha/'}),\n",
              " ('Родино',\n",
              "  {'region': 'Алтайский край', 'url': 'https://rus-work.com/rodino/'}),\n",
              " ('Романово',\n",
              "  {'region': 'Алтайский край', 'url': 'https://rus-work.com/romanovo/'}),\n",
              " ('Рубцовск',\n",
              "  {'region': 'Алтайский край', 'url': 'https://rus-work.com/rubtsovsk/'}),\n",
              " ('Сибирский',\n",
              "  {'region': 'Алтайский край', 'url': 'https://rus-work.com/sibirskiy/'}),\n",
              " ('Славгород (Алтайский край)',\n",
              "  {'region': 'Алтайский край', 'url': 'https://rus-work.com/slavgorod/'}),\n",
              " ('Славгородское',\n",
              "  {'region': 'Алтайский край', 'url': 'https://rus-work.com/slavgorodskoe/'}),\n",
              " ('Смоленское',\n",
              "  {'region': 'Алтайский край', 'url': 'https://rus-work.com/smolenskoe/'}),\n",
              " ('Соколово',\n",
              "  {'region': 'Алтайский край', 'url': 'https://rus-work.com/sokolovo/'}),\n",
              " ('Солонешное',\n",
              "  {'region': 'Алтайский край', 'url': 'https://rus-work.com/soloneshnoe/'}),\n",
              " ('Солтон',\n",
              "  {'region': 'Алтайский край', 'url': 'https://rus-work.com/solton/'}),\n",
              " ('Сростки',\n",
              "  {'region': 'Алтайский край', 'url': 'https://rus-work.com/srostki/'}),\n",
              " ('Староалейское',\n",
              "  {'region': 'Алтайский край', 'url': 'https://rus-work.com/staroaleyskoe/'}),\n",
              " ('Степное Озеро',\n",
              "  {'region': 'Алтайский край', 'url': 'https://rus-work.com/stepnoe-ozero/'}),\n",
              " ('Табуны',\n",
              "  {'region': 'Алтайский край', 'url': 'https://rus-work.com/tabuny/'}),\n",
              " ('Тальменка',\n",
              "  {'region': 'Алтайский край', 'url': 'https://rus-work.com/talmenka/'}),\n",
              " ('Тогул', {'region': 'Алтайский край', 'url': 'https://rus-work.com/togul/'}),\n",
              " ('Топчиха',\n",
              "  {'region': 'Алтайский край', 'url': 'https://rus-work.com/topchiha/'}),\n",
              " ('Троицкое (Алтайский край)',\n",
              "  {'region': 'Алтайский край', 'url': 'https://rus-work.com/troitskoe22/'}),\n",
              " ('Тюменцево',\n",
              "  {'region': 'Алтайский край', 'url': 'https://rus-work.com/tyumentsevo/'}),\n",
              " ('Угловское',\n",
              "  {'region': 'Алтайский край', 'url': 'https://rus-work.com/uglovskoe/'}),\n",
              " ('Усть-Калманка',\n",
              "  {'region': 'Алтайский край', 'url': 'https://rus-work.com/ust-kalmanka/'}),\n",
              " ('Усть-Чарышская Пристань',\n",
              "  {'region': 'Алтайский край',\n",
              "   'url': 'https://rus-work.com/ust-charyshskaya-pristan/'}),\n",
              " ('Хабары',\n",
              "  {'region': 'Алтайский край', 'url': 'https://rus-work.com/habary/'}),\n",
              " ('Целинное',\n",
              "  {'region': 'Алтайский край', 'url': 'https://rus-work.com/tselinnoe22/'}),\n",
              " ('Чарышское',\n",
              "  {'region': 'Алтайский край', 'url': 'https://rus-work.com/charyshskoe/'}),\n",
              " ('Черемное',\n",
              "  {'region': 'Алтайский край', 'url': 'https://rus-work.com/cheremnoe/'}),\n",
              " ('Шелаболиха',\n",
              "  {'region': 'Алтайский край', 'url': 'https://rus-work.com/shelaboliha/'}),\n",
              " ('Шипуново',\n",
              "  {'region': 'Алтайский край', 'url': 'https://rus-work.com/shipunovo/'}),\n",
              " ('Южный (Алтайский край)',\n",
              "  {'region': 'Алтайский край', 'url': 'https://rus-work.com/yuzhniy22/'}),\n",
              " ('Яровое',\n",
              "  {'region': 'Алтайский край', 'url': 'https://rus-work.com/yarove/'})]"
            ]
          },
          "metadata": {},
          "execution_count": 64
        }
      ]
    },
    {
      "cell_type": "code",
      "source": [
        ""
      ],
      "metadata": {
        "id": "JepPmxE6aqKc"
      },
      "execution_count": null,
      "outputs": []
    }
  ]
}